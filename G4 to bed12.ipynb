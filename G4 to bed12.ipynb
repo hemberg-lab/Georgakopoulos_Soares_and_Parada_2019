{
 "cells": [
  {
   "cell_type": "code",
   "execution_count": 1,
   "metadata": {},
   "outputs": [],
   "source": [
    "import sys\n",
    "import csv"
   ]
  },
  {
   "cell_type": "code",
   "execution_count": 2,
   "metadata": {},
   "outputs": [],
   "source": [
    "from Bio import SeqIO\n",
    "from Bio.Seq import Seq\n",
    "from Bio.Alphabet import generic_dna\n",
    "\n",
    "Genome = {}\n",
    "def Genomictabulator(fasta):\n",
    "\t\n",
    "\n",
    "\n",
    "\tf = open(fasta)\n",
    "\n",
    "\tfor chrfa in SeqIO.parse(f, \"fasta\"):\n",
    "\t\tGenome[chrfa.id] = chrfa.seq\n",
    "\t\t\n",
    "\n",
    "\n",
    "\tf.close()"
   ]
  },
  {
   "cell_type": "code",
   "execution_count": 3,
   "metadata": {},
   "outputs": [],
   "source": [
    "Genomictabulator(\"/Users/gp7/Genomes/hg19/GRCh37.p13.genome.fa\")"
   ]
  },
  {
   "cell_type": "code",
   "execution_count": 4,
   "metadata": {},
   "outputs": [],
   "source": [
    "with open(\"./All_G4.tsv.clean\") as G4_bed, open(\"./All_G4.bed12\", \"w\") as out :\n",
    "    \n",
    "    reader = csv.reader(G4_bed, delimiter=\"\\t\")\n",
    "    \n",
    "    for row in reader:\n",
    "        \n",
    "        chrom, start, end = row\n",
    "        start = int(start) - 1\n",
    "        end = int(end)\n",
    "        \n",
    "        G4_seq = Genome[chrom][start:end]\n",
    "    \n",
    "        Grun = 0\n",
    "        Grun_start = 0\n",
    "        pos = 0\n",
    "        Grun_start_end = dict([])\n",
    "        \n",
    "        for n in G4_seq:\n",
    "\n",
    "            if n==\"G\":\n",
    "                \n",
    "                Grun += 1\n",
    "                if Grun == 1:\n",
    "                    Grun_start = pos\n",
    "                Grun_start_end[Grun_start] = pos\n",
    "         \n",
    "                \n",
    "            if n!=\"G\":\n",
    "                \n",
    "                Grun = 0\n",
    "            pos += 1\n",
    "        \n",
    "        \n",
    "        Gruns = []\n",
    "        \n",
    "        \n",
    "        for s, e in sorted(Grun_start_end.items(), key=lambda x: x[1]):\n",
    "        \n",
    "            if e-s>=2:\n",
    "                \n",
    "                Gruns.append((s, e))\n",
    "                \n",
    "                \n",
    "\n",
    "                \n",
    "        Crun = 0\n",
    "        Crun_start = 0\n",
    "        pos = 0\n",
    "        Crun_start_end = dict([])\n",
    "        \n",
    "        for n in G4_seq:\n",
    "\n",
    "            if n==\"C\":\n",
    "                \n",
    "                Crun += 1\n",
    "                if Crun == 1:\n",
    "                    Crun_start = pos\n",
    "                Crun_start_end[Crun_start] = pos\n",
    "         \n",
    "                \n",
    "            if n!=\"C\":\n",
    "                \n",
    "                Crun = 0\n",
    "            pos += 1\n",
    "        \n",
    "        \n",
    "        Cruns = []\n",
    "        \n",
    "        \n",
    "        for s, e in sorted(Crun_start_end.items(), key=lambda x: x[1]):\n",
    "        \n",
    "            if e-s>=2:\n",
    "                \n",
    "                Cruns.append((s, e))\n",
    "        \n",
    "        blockstarts = []\n",
    "        blocksizes = []\n",
    "        \n",
    "        strand = \"\"\n",
    "        \n",
    "        \n",
    "        if len(Gruns) > len(Cruns):\n",
    "            \n",
    "            strand = \"+\"\n",
    "            \n",
    "            for s, e in Gruns:\n",
    "            \n",
    "                blockstarts.append(s)\n",
    "                blocksizes.append(e-s+1)\n",
    "                        \n",
    "        else:\n",
    "            \n",
    "            strand = \"-\"\n",
    "        \n",
    "            for s, e in Cruns:\n",
    "            \n",
    "                blockstarts.append(s)\n",
    "                blocksizes.append(e-s+1)\n",
    "\n",
    "        \n",
    "        \n",
    "        first_block_start =  blockstarts[0]\n",
    "            \n",
    "        new_start = start + first_block_start\n",
    "        blockstarts = [x - first_block_start for x in blockstarts]\n",
    "        new_end = new_start + blockstarts[-1] + blocksizes[-1]\n",
    "       \n",
    "        name = \"_\".join( map(str, blocksizes))\n",
    "        \n",
    "        bn =  len(blocksizes)\n",
    "        \n",
    "        blockstarts = \",\".join( map(str, blockstarts))\n",
    "        blocksizes = \",\".join( map(str, blocksizes))\n",
    "\n",
    "        bed12 = [chrom, new_start, new_end,  name, 0, strand, new_start, new_end, \"0,0,0\", bn, blocksizes, blockstarts]\n",
    "          \n",
    "        out.write(\"\\t\".join(map(str, bed12) ) + \"\\n\" )\n",
    "                \n",
    "\n",
    "        \n",
    "        "
   ]
  },
  {
   "cell_type": "code",
   "execution_count": null,
   "metadata": {},
   "outputs": [],
   "source": [
    "chr10\t669625\t669682\t4_3_3_3_4_4_4_3\t0\t+\t669625\t669682\t0,0,0\t8\t4,3,3,3,4,4,4,3\t0,5,13,20,27,35,43,48"
   ]
  },
  {
   "cell_type": "code",
   "execution_count": 33,
   "metadata": {},
   "outputs": [
    {
     "data": {
      "text/plain": [
       "669605"
      ]
     },
     "execution_count": 33,
     "metadata": {},
     "output_type": "execute_result"
    }
   ],
   "source": [
    "669583 + 19 + 3"
   ]
  },
  {
   "cell_type": "code",
   "execution_count": null,
   "metadata": {},
   "outputs": [],
   "source": [
    "chr10 695317 695336 3_3_3 0 + 695317 695336 0,0,0 5 3,3,3 0,4,13"
   ]
  }
 ],
 "metadata": {
  "kernelspec": {
   "display_name": "Python 3",
   "language": "python",
   "name": "python3"
  },
  "language_info": {
   "codemirror_mode": {
    "name": "ipython",
    "version": 3
   },
   "file_extension": ".py",
   "mimetype": "text/x-python",
   "name": "python",
   "nbconvert_exporter": "python",
   "pygments_lexer": "ipython3",
   "version": "3.8.5"
  }
 },
 "nbformat": 4,
 "nbformat_minor": 2
}
